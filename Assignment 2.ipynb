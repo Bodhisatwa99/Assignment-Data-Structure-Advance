{
 "cells": [
  {
   "cell_type": "code",
   "execution_count": 37,
   "id": "81c1d361-ad7c-459c-876d-d51781483759",
   "metadata": {},
   "outputs": [
    {
     "name": "stdout",
     "output_type": "stream",
     "text": [
      "Original String: Bodhisatwa\n",
      "Reversed String: awtasihdoB\n"
     ]
    }
   ],
   "source": [
    "#1\n",
    "def reverse_string(s):\n",
    "    return s[::-1]\n",
    "string = \"Bodhisatwa\"\n",
    "reversed_string = reverse_string(string)\n",
    "print(\"Original String:\", string)\n",
    "print(\"Reversed String:\", reversed_string)"
   ]
  },
  {
   "cell_type": "code",
   "execution_count": 38,
   "id": "3038cf9e-8fb3-4fcf-9f58-ed888becd024",
   "metadata": {},
   "outputs": [
    {
     "name": "stdout",
     "output_type": "stream",
     "text": [
      "Number of vowels: 4\n"
     ]
    }
   ],
   "source": [
    "#2\n",
    "def count_vowels(s):\n",
    "    vowels = \"aeiouAEIOU\"\n",
    "    count = sum(1 for char in s if char in vowels)\n",
    "    return count\n",
    "string = \"Bodhisatwa\"\n",
    "vowel_count = count_vowels(string)\n",
    "print(\"Number of vowels:\", vowel_count)"
   ]
  },
  {
   "cell_type": "code",
   "execution_count": 39,
   "id": "f68969b5-20e9-4f47-b51e-e3a29d6e7ba8",
   "metadata": {},
   "outputs": [
    {
     "name": "stdout",
     "output_type": "stream",
     "text": [
      "\"Roshan\" is not a palindrome.\n"
     ]
    }
   ],
   "source": [
    "#3\n",
    "def is_palindrome(s):\n",
    "    s = s.lower().replace(\" \", \"\") \n",
    "    return s == s[::-1]\n",
    "string = \"Roshan\"\n",
    "if is_palindrome(string):\n",
    "    print(f'\"{string}\" is a palindrome.')\n",
    "else:\n",
    "    print(f'\"{string}\" is not a palindrome.')"
   ]
  },
  {
   "cell_type": "code",
   "execution_count": 40,
   "id": "6e4d6d03-c8f7-44a6-9bb1-f1265daaa1b5",
   "metadata": {},
   "outputs": [
    {
     "name": "stdout",
     "output_type": "stream",
     "text": [
      "\"silent\" and \"listen\" are anagrams.\n"
     ]
    }
   ],
   "source": [
    "#4\n",
    "def are_anagrams(str1, str2):\n",
    "    return sorted(str1.lower()) == sorted(str2.lower())\n",
    "string1 = \"silent\"\n",
    "string2 = \"listen\"\n",
    "\n",
    "if are_anagrams(string1, string2):\n",
    "    print(f'\"{string1}\" and \"{string2}\" are anagrams.')\n",
    "else:\n",
    "    print(f'\"{string1}\" and \"{string2}\" are not anagrams.')\n"
   ]
  },
  {
   "cell_type": "code",
   "execution_count": 41,
   "id": "5d2f117c-9c5a-45df-b291-bb2e5138c158",
   "metadata": {},
   "outputs": [
    {
     "name": "stdout",
     "output_type": "stream",
     "text": [
      "Occurrences of \"hello\" found at positions: [0, 13]\n"
     ]
    }
   ],
   "source": [
    "#5\n",
    "def find_occurrences(text, substring):\n",
    "    occurrences = []\n",
    "    start = 0\n",
    "\n",
    "    while start < len(text):\n",
    "        index = text.find(substring, start)\n",
    "        if index == -1:\n",
    "            break\n",
    "        occurrences.append(index)\n",
    "        start = index + 1 \n",
    "\n",
    "    return occurrences\n",
    "text = \"hello world, hello universe\"\n",
    "substring = \"hello\"\n",
    "positions = find_occurrences(text, substring)\n",
    "\n",
    "print(f'Occurrences of \"{substring}\" found at positions: {positions}')\n"
   ]
  },
  {
   "cell_type": "code",
   "execution_count": 42,
   "id": "37fda840-0666-49cf-910d-bf3b5b39ba49",
   "metadata": {},
   "outputs": [
    {
     "name": "stdout",
     "output_type": "stream",
     "text": [
      "Original: aaabbcddd\n",
      "Compressed: a3b2c1d3\n"
     ]
    }
   ],
   "source": [
    "#6\n",
    "def compress_string(s):\n",
    "    if not s:\n",
    "        return \"\"\n",
    "\n",
    "    compressed = []\n",
    "    count = 1\n",
    "\n",
    "    for i in range(1, len(s)):\n",
    "        if s[i] == s[i - 1]:\n",
    "            count += 1\n",
    "        else:\n",
    "            compressed.append(s[i - 1] + str(count))\n",
    "            count = 1\n",
    "\n",
    "    compressed.append(s[-1] + str(count)) \n",
    "    compressed_str = \"\".join(compressed)\n",
    "\n",
    "    return compressed_str if len(compressed_str) < len(s) else s\n",
    "string = \"aaabbcddd\"\n",
    "compressed_string = compress_string(string)\n",
    "print(f'Original: {string}')\n",
    "print(f'Compressed: {compressed_string}')\n"
   ]
  },
  {
   "cell_type": "code",
   "execution_count": 43,
   "id": "0b19213d-03fa-4710-baf4-91deeeb5392b",
   "metadata": {},
   "outputs": [
    {
     "name": "stdout",
     "output_type": "stream",
     "text": [
      "\"abcdefga\" does not have all unique characters.\n"
     ]
    }
   ],
   "source": [
    "#7\n",
    "def has_unique_chars(s):\n",
    "    return len(s) == len(set(s))\n",
    "string = \"abcdefga\"\n",
    "if has_unique_chars(string):\n",
    "    print(f'\"{string}\" has all unique characters.')\n",
    "else:\n",
    "    print(f'\"{string}\" does not have all unique characters.')\n"
   ]
  },
  {
   "cell_type": "code",
   "execution_count": 44,
   "id": "8bb759de-a609-42d0-8269-301496e89d89",
   "metadata": {},
   "outputs": [
    {
     "name": "stdin",
     "output_type": "stream",
     "text": [
      "Enter a string:  Bodhisatwa\n",
      "Convert to uppercase? (yes/no):  yes\n"
     ]
    },
    {
     "name": "stdout",
     "output_type": "stream",
     "text": [
      "Converted string: BODHISATWA\n"
     ]
    }
   ],
   "source": [
    "#8\n",
    "def convert_case(input_string, to_upper=True):\n",
    "    return input_string.upper() if to_upper else input_string.lower()\n",
    "\n",
    "text = input(\"Enter a string: \")\n",
    "choice = input(\"Convert to uppercase? (yes/no): \").strip().lower() == \"yes\"\n",
    "converted_text = convert_case(text, choice)\n",
    "print(\"Converted string:\", converted_text)"
   ]
  },
  {
   "cell_type": "code",
   "execution_count": 45,
   "id": "b63f9137-d37e-4168-a9dd-3ca27fb84db1",
   "metadata": {},
   "outputs": [
    {
     "name": "stdout",
     "output_type": "stream",
     "text": [
      "Number of words: 4\n"
     ]
    }
   ],
   "source": [
    "#9\n",
    "def count_words(s):\n",
    "    return len(s.split())\n",
    "string = \"My name is Bodhisatwa\"\n",
    "word_count = count_words(string)\n",
    "\n",
    "print(f'Number of words: {word_count}')\n"
   ]
  },
  {
   "cell_type": "code",
   "execution_count": 46,
   "id": "67d75aae-daa4-4891-9554-c10e54166055",
   "metadata": {},
   "outputs": [
    {
     "name": "stdout",
     "output_type": "stream",
     "text": [
      "HelloWorld\n"
     ]
    }
   ],
   "source": [
    "#10\n",
    "def concatenate_strings(str1, str2):\n",
    "    return \"\".join([str1+ str2])\n",
    "string1 = \"Hello\"\n",
    "string2 = \"World\"\n",
    "result = concatenate_strings(string1, string2)\n",
    "print(result)  # Output: HelloWorld"
   ]
  },
  {
   "cell_type": "code",
   "execution_count": 47,
   "id": "2c234741-02e1-4455-902c-caf7e053b449",
   "metadata": {},
   "outputs": [
    {
     "name": "stdout",
     "output_type": "stream",
     "text": [
      "[1, 3, 4, 5]\n"
     ]
    }
   ],
   "source": [
    "#11\n",
    "def remove_all_occurrences(lst, element):\n",
    "    return [item for item in lst if item != element]\n",
    "    \n",
    "numbers = [1, 2, 3, 4, 2, 2, 5]\n",
    "element_to_remove = 2\n",
    "result = remove_all_occurrences(numbers, element_to_remove)\n",
    "print(result)  "
   ]
  },
  {
   "cell_type": "code",
   "execution_count": 48,
   "id": "6fe4505c-ec47-4b48-bb9b-5c9a71d6663f",
   "metadata": {},
   "outputs": [
    {
     "name": "stdout",
     "output_type": "stream",
     "text": [
      "34\n"
     ]
    }
   ],
   "source": [
    "#12\n",
    "def second_largest_number(lst):\n",
    "    unique_numbers = list(set(lst))  \n",
    "    if len(unique_numbers) < 2:\n",
    "        return None\n",
    "    unique_numbers.sort(reverse=True)  \n",
    "    return unique_numbers[1] \n",
    "\n",
    "numbers = [1, 2, 34, 4, 2, 2, 35]\n",
    "result = second_largest_number(numbers)\n",
    "print(result) "
   ]
  },
  {
   "cell_type": "code",
   "execution_count": 49,
   "id": "9efa40fc-0bb9-455b-ad3f-47f02f15450f",
   "metadata": {},
   "outputs": [
    {
     "name": "stdout",
     "output_type": "stream",
     "text": [
      "{1: 1, 2: 3, 3: 1, 4: 1, 5: 1}\n"
     ]
    }
   ],
   "source": [
    "#13\n",
    "def count_occurrences(lst):\n",
    "    occurrences = {}\n",
    "    for item in lst:\n",
    "        occurrences[item] = occurrences.get(item, 0) + 1\n",
    "    return occurrences\n",
    "numbers = [1, 2, 3, 4, 2, 2, 5]\n",
    "result = count_occurrences(numbers)\n",
    "print(result)\n"
   ]
  },
  {
   "cell_type": "code",
   "execution_count": 50,
   "id": "62b2d450-a305-4121-a59f-00dcf8e4b012",
   "metadata": {},
   "outputs": [
    {
     "name": "stdout",
     "output_type": "stream",
     "text": [
      "[5, 4, 3, 2, 1]\n"
     ]
    }
   ],
   "source": [
    "#14\n",
    "def reverse_list_in_place(lst):\n",
    "    left, right = 0, len(lst) - 1\n",
    "    while left < right:\n",
    "        lst[left], lst[right] = lst[right], lst[left] \n",
    "        left += 1\n",
    "        right -= 1\n",
    "numbers = [1, 2, 3, 4, 5]\n",
    "reverse_list_in_place(numbers)\n",
    "print(numbers) \n",
    "\n"
   ]
  },
  {
   "cell_type": "code",
   "execution_count": 51,
   "id": "9a1ee4b9-b095-48c9-a9d8-245dd45c60f9",
   "metadata": {},
   "outputs": [
    {
     "name": "stdout",
     "output_type": "stream",
     "text": [
      "[1, 2, 3, 4, 5, 6]\n"
     ]
    }
   ],
   "source": [
    "#15\n",
    "def remove_duplicates_preserve_order(lst):\n",
    "    seen = set()\n",
    "    result = []\n",
    "    for item in lst:\n",
    "        if item not in seen:\n",
    "            seen.add(item)\n",
    "            result.append(item)\n",
    "    return result\n",
    "numbers = [1, 2, 3, 4, 2, 5, 3, 6]\n",
    "result = remove_duplicates_preserve_order(numbers)\n",
    "print(result) "
   ]
  },
  {
   "cell_type": "code",
   "execution_count": 52,
   "id": "f02c17a7-ed83-4895-9e0c-5e16fcaf697c",
   "metadata": {},
   "outputs": [
    {
     "name": "stdout",
     "output_type": "stream",
     "text": [
      "Ascending\n",
      "Descending\n",
      "Not Sorted\n"
     ]
    }
   ],
   "source": [
    "#16\n",
    "def is_sorted(lst):\n",
    "    if lst == sorted(lst):\n",
    "        return \"Ascending\"\n",
    "    elif lst == sorted(lst, reverse=True):\n",
    "        return \"Descending\"\n",
    "    else:\n",
    "        return \"Not Sorted\"\n",
    "numbers = [1, 2, 3, 4, 5]\n",
    "print(is_sorted(numbers)) \n",
    "\n",
    "numbers = [5, 4, 3, 2, 1]\n",
    "print(is_sorted(numbers)) \n",
    "\n",
    "numbers = [1, 3, 2, 4, 5]\n",
    "print(is_sorted(numbers))  "
   ]
  },
  {
   "cell_type": "code",
   "execution_count": 15,
   "id": "f970b0aa-167d-4fcc-9724-756052394359",
   "metadata": {},
   "outputs": [
    {
     "name": "stdout",
     "output_type": "stream",
     "text": [
      "[1, 2, 3, 4, 5, 6, 7, 8]\n"
     ]
    }
   ],
   "source": [
    "#16\n",
    "def merge_sorted_lists(lst1, lst2):\n",
    "    merged_list = []\n",
    "    i, j = 0, 0\n",
    "    \n",
    "    while i < len(lst1) and j < len(lst2):\n",
    "        if lst1[i] < lst2[j]:\n",
    "            merged_list.append(lst1[i])\n",
    "            i += 1\n",
    "        else:\n",
    "            merged_list.append(lst2[j])\n",
    "            j += 1\n",
    "    \n",
    "    while i < len(lst1):\n",
    "        merged_list.append(lst1[i])\n",
    "        i += 1\n",
    "    \n",
    "    while j < len(lst2):\n",
    "        merged_list.append(lst2[j])\n",
    "        j += 1\n",
    "    \n",
    "    return merged_list\n",
    "    \n",
    "list1 = [1, 3, 5, 7]\n",
    "list2 = [2, 4, 6, 8]\n",
    "result = merge_sorted_lists(list1, list2)\n",
    "print(result)  \n"
   ]
  },
  {
   "cell_type": "code",
   "execution_count": 53,
   "id": "1b507463-0ce9-4027-8756-e8e6bb529861",
   "metadata": {},
   "outputs": [
    {
     "name": "stdout",
     "output_type": "stream",
     "text": [
      "[3, 4, 5]\n"
     ]
    }
   ],
   "source": [
    "#18\n",
    "def find_intersection(lst1, lst2):\n",
    "    return list(set(lst1) & set(lst2))\n",
    "list1 = [1, 2, 3, 4, 5]\n",
    "list2 = [3, 4, 5, 6, 7]\n",
    "result = find_intersection(list1, list2)\n",
    "print(result)  "
   ]
  },
  {
   "cell_type": "code",
   "execution_count": 54,
   "id": "987d7394-07c7-4e27-851e-3c482102c1a2",
   "metadata": {},
   "outputs": [
    {
     "name": "stdout",
     "output_type": "stream",
     "text": [
      "[1, 2, 3, 4, 5, 6, 7]\n"
     ]
    }
   ],
   "source": [
    "#19\n",
    "def find_union(lst1, lst2):\n",
    "    return list(set(lst1) | set(lst2))\n",
    "\n",
    "list1 = [1, 2, 3, 4, 5]\n",
    "list2 = [3, 4, 5, 6, 7]\n",
    "result = find_union(list1, list2)\n",
    "print(result)  "
   ]
  },
  {
   "cell_type": "code",
   "execution_count": 55,
   "id": "0a86ad8f-330a-47ea-a4d9-78e48a444d9b",
   "metadata": {},
   "outputs": [
    {
     "name": "stdout",
     "output_type": "stream",
     "text": [
      "[7, 2, 5, 3, 1, 4, 6]\n"
     ]
    }
   ],
   "source": [
    "#20\n",
    "import random\n",
    "def shuffle_list(lst):\n",
    "    for i in range(len(lst) - 1, 0, -1):\n",
    "        j = random.randint(0, i)\n",
    "        lst[i], lst[j] = lst[j], lst[i]  \n",
    "numbers = [1, 2, 3, 4, 5, 6, 7]\n",
    "shuffle_list(numbers)\n",
    "print(numbers)  # Output: Randomly shuffled list"
   ]
  },
  {
   "cell_type": "code",
   "execution_count": 56,
   "id": "f670629c-7114-422a-ae4b-fe6e81bef0d2",
   "metadata": {},
   "outputs": [
    {
     "name": "stdout",
     "output_type": "stream",
     "text": [
      "(3, 4, 5)\n"
     ]
    }
   ],
   "source": [
    "#21\n",
    "def common_elements(tuple1, tuple2):\n",
    "    return tuple(set(tuple1) & set(tuple2))\n",
    "\n",
    "\n",
    "tuple1 = (1, 2, 3, 4, 5)\n",
    "tuple2 = (3, 4, 5, 6, 7)\n",
    "result = common_elements(tuple1, tuple2)\n",
    "print(result) \n"
   ]
  },
  {
   "cell_type": "code",
   "execution_count": 57,
   "id": "e26bb386-a46b-48de-9df3-a4c801cbcd91",
   "metadata": {},
   "outputs": [
    {
     "name": "stdin",
     "output_type": "stream",
     "text": [
      "Enter first set of integers separated by commas:  1,2,3,4,5\n",
      "Enter second set of integers separated by commas:  3,4,5,6,7,8\n"
     ]
    },
    {
     "name": "stdout",
     "output_type": "stream",
     "text": [
      "Intersection of the sets: {3, 4, 5}\n"
     ]
    }
   ],
   "source": [
    "#22\n",
    "def get_set_from_input(prompt):\n",
    "    return set(map(int, input(prompt).split(',')))\n",
    "\n",
    "set1 = get_set_from_input(\"Enter first set of integers separated by commas: \")\n",
    "set2 = get_set_from_input(\"Enter second set of integers separated by commas: \")\n",
    "\n",
    "intersection = set1 & set2\n",
    "print(\"Intersection of the sets:\", intersection)"
   ]
  },
  {
   "cell_type": "code",
   "execution_count": 58,
   "id": "ed81d11a-9999-46b2-bd3f-65a0bdf07b8f",
   "metadata": {},
   "outputs": [
    {
     "name": "stdout",
     "output_type": "stream",
     "text": [
      "(1, 2, 3, 4, 5, 6)\n"
     ]
    }
   ],
   "source": [
    "#23\n",
    "def concatenate_tuples(tuple1, tuple2):\n",
    "    return tuple1 + tuple2\n",
    "\n",
    "tuple1 = (1, 2, 3)\n",
    "tuple2 = (4, 5, 6)\n",
    "result = concatenate_tuples(tuple1, tuple2)\n",
    "print(result) "
   ]
  },
  {
   "cell_type": "code",
   "execution_count": 59,
   "id": "f0a7ddc4-2638-4887-8fb9-5dcafbc9895a",
   "metadata": {},
   "outputs": [
    {
     "name": "stdin",
     "output_type": "stream",
     "text": [
      "Enter first set of strings separated by commas:  1,2,3,4\n",
      "Enter second set of strings separated by commas:  3,4,5,6\n"
     ]
    },
    {
     "name": "stdout",
     "output_type": "stream",
     "text": [
      "Elements in the first set but not in the second: {'2', '1'}\n"
     ]
    }
   ],
   "source": [
    "#24\n",
    "def get_set_from_input(prompt):\n",
    "    return set(input(prompt).split(','))\n",
    "\n",
    "# Prompt user for input\n",
    "set1 = get_set_from_input(\"Enter first set of strings separated by commas: \")\n",
    "set2 = get_set_from_input(\"Enter second set of strings separated by commas: \")\n",
    "\n",
    "# Find difference\n",
    "difference = set1 - set2\n",
    "print(\"Elements in the first set but not in the second:\", difference)"
   ]
  },
  {
   "cell_type": "code",
   "execution_count": 61,
   "id": "49ba022d-704f-475c-9db2-4cae1c724bbc",
   "metadata": {},
   "outputs": [
    {
     "name": "stdin",
     "output_type": "stream",
     "text": [
      "Enter start index:  3\n",
      "Enter end index:  5\n"
     ]
    },
    {
     "name": "stdout",
     "output_type": "stream",
     "text": [
      "Sliced tuple: (4, 5)\n"
     ]
    }
   ],
   "source": [
    "#25\n",
    "def slice_tuple(input_tuple, start, end):\n",
    "    return input_tuple[start:end]\n",
    "\n",
    "tuple_data = (1, 2, 3, 4, 5, 6, 7, 8, 9)\n",
    "start_index = int(input(\"Enter start index: \"))\n",
    "end_index = int(input(\"Enter end index: \"))\n",
    "\n",
    "result = slice_tuple(tuple_data, start_index, end_index)\n",
    "print(\"Sliced tuple:\", result)\n"
   ]
  },
  {
   "cell_type": "code",
   "execution_count": 62,
   "id": "612c3ec6-2bbd-4d21-b82a-eb62d79b656c",
   "metadata": {},
   "outputs": [
    {
     "name": "stdin",
     "output_type": "stream",
     "text": [
      "Enter first set of characters separated by commas:  1,2,3,4,5\n",
      "Enter second set of characters separated by commas:  3,4,5,6,7,8\n"
     ]
    },
    {
     "name": "stdout",
     "output_type": "stream",
     "text": [
      "Union of the sets: {'5', '8', '7', '6', '2', '1', '3', '4'}\n"
     ]
    }
   ],
   "source": [
    "#26\n",
    "def get_set_from_input(prompt):\n",
    "    return set(input(prompt).split(','))\n",
    "\n",
    "set1 = get_set_from_input(\"Enter first set of characters separated by commas: \")\n",
    "set2 = get_set_from_input(\"Enter second set of characters separated by commas: \")\n",
    "\n",
    "union_set = set1 | set2\n",
    "print(\"Union of the sets:\", union_set)"
   ]
  },
  {
   "cell_type": "code",
   "execution_count": 64,
   "id": "c48c1d73-3e10-48f1-b88d-9336b8dca01e",
   "metadata": {},
   "outputs": [
    {
     "name": "stdin",
     "output_type": "stream",
     "text": [
      "Enter integers separated by commas:  1, 3,5,6,8,10\n"
     ]
    },
    {
     "name": "stdout",
     "output_type": "stream",
     "text": [
      "Minimum: 1, Maximum: 10\n"
     ]
    }
   ],
   "source": [
    "#27\n",
    "def find_min_max(input_tuple):\n",
    "    min_val, max_val = min(input_tuple), max(input_tuple)\n",
    "    return min_val, max_val\n",
    "\n",
    "tuple_data = tuple(map(int, input(\"Enter integers separated by commas: \").split(',')))\n",
    "min_value, max_value = find_min_max(tuple_data)\n",
    "print(f\"Minimum: {min_value}, Maximum: {max_value}\")\n"
   ]
  },
  {
   "cell_type": "code",
   "execution_count": 65,
   "id": "97f469ad-6393-4be5-b150-6a937cd9a1fe",
   "metadata": {},
   "outputs": [
    {
     "name": "stdout",
     "output_type": "stream",
     "text": [
      "Union: {1, 2, 3, 4, 5, 6, 7}\n",
      "Intersection: {3, 4, 5}\n",
      "Difference (Set1 - Set2): {1, 2}\n"
     ]
    }
   ],
   "source": [
    "#28\n",
    "def set_operations(set1, set2):\n",
    "    union_set = set1 | set2\n",
    "    intersection_set = set1 & set2\n",
    "    difference_set = set1 - set2\n",
    "    return union_set, intersection_set, difference_set\n",
    "\n",
    "set1 = {1, 2, 3, 4, 5}\n",
    "set2 = {3, 4, 5, 6, 7}\n",
    "\n",
    "union_result, intersection_result, difference_result = set_operations(set1, set2)\n",
    "\n",
    "print(\"Union:\", union_result)\n",
    "print(\"Intersection:\", intersection_result)\n",
    "print(\"Difference (Set1 - Set2):\", difference_result)\n"
   ]
  },
  {
   "cell_type": "code",
   "execution_count": 67,
   "id": "daf0636d-b215-4a11-9b4d-b3782fc76689",
   "metadata": {},
   "outputs": [
    {
     "name": "stdin",
     "output_type": "stream",
     "text": [
      "Enter integers separated by commas:  2,3,5,7,9\n",
      "Enter the element to count:  9\n"
     ]
    },
    {
     "name": "stdout",
     "output_type": "stream",
     "text": [
      "The element 9 appears 1 times in the tuple.\n"
     ]
    }
   ],
   "source": [
    "#29\n",
    "def count_element(input_tuple, element):\n",
    "    return input_tuple.count(element)\n",
    "\n",
    "# Example usage\n",
    "tuple_data = tuple(map(int, input(\"Enter integers separated by commas: \").split(',')))\n",
    "element = int(input(\"Enter the element to count: \"))\n",
    "count = count_element(tuple_data, element)\n",
    "print(f\"The element {element} appears {count} times in the tuple.\")\n"
   ]
  },
  {
   "cell_type": "code",
   "execution_count": 69,
   "id": "dae22da0-be23-4dd7-816a-25d232619468",
   "metadata": {},
   "outputs": [
    {
     "name": "stdin",
     "output_type": "stream",
     "text": [
      "Enter first set of strings separated by commas:  apple, ball, cat\n",
      "Enter second set of strings separated by commas:  cat, dog, fogg\n"
     ]
    },
    {
     "name": "stdout",
     "output_type": "stream",
     "text": [
      "Symmetric difference of the sets: {' ball', ' fogg', 'cat', ' dog', 'apple', ' cat'}\n"
     ]
    }
   ],
   "source": [
    "#29\n",
    "def get_set_from_input(prompt):\n",
    "    return set(input(prompt).split(','))\n",
    "set1 = get_set_from_input(\"Enter first set of strings separated by commas: \")\n",
    "set2 = get_set_from_input(\"Enter second set of strings separated by commas: \")\n",
    "\n",
    "symmetric_diff = set1 ^ set2\n",
    "print(\"Symmetric difference of the sets:\", symmetric_diff)\n"
   ]
  },
  {
   "cell_type": "code",
   "execution_count": 70,
   "id": "da132281-3596-4126-b13a-5e0c6e46e2ce",
   "metadata": {},
   "outputs": [
    {
     "name": "stdin",
     "output_type": "stream",
     "text": [
      "Enter words separated by spaces:  ram, shyam, disha\n"
     ]
    },
    {
     "name": "stdout",
     "output_type": "stream",
     "text": [
      "Word frequencies: {'ram,': 1, 'shyam,': 1, 'disha': 1}\n"
     ]
    }
   ],
   "source": [
    "#31\n",
    "def word_frequencies(word_list):\n",
    "    frequency_dict = {}\n",
    "    for word in word_list:\n",
    "        frequency_dict[word] = frequency_dict.get(word, 0) + 1\n",
    "    return frequency_dict\n",
    "words = input(\"Enter words separated by spaces: \").split()\n",
    "result = word_frequencies(words)\n",
    "print(\"Word frequencies:\", result)"
   ]
  },
  {
   "cell_type": "code",
   "execution_count": 71,
   "id": "13ca15fd-a730-4b7f-8a1c-3d08ca8b2ee0",
   "metadata": {},
   "outputs": [
    {
     "name": "stdout",
     "output_type": "stream",
     "text": [
      "Merged dictionary: {'a': 1, 'b': 5, 'c': 7, 'd': 5}\n"
     ]
    }
   ],
   "source": [
    "#32\n",
    "def merge_dictionaries(dict1, dict2):\n",
    "    merged_dict = dict1.copy()\n",
    "    for key, value in dict2.items():\n",
    "        merged_dict[key] = merged_dict.get(key, 0) + value\n",
    "    return merged_dict\n",
    "\n",
    "dict1 = {\"a\": 1, \"b\": 2, \"c\": 3}\n",
    "dict2 = {\"b\": 3, \"c\": 4, \"d\": 5}\n",
    "result = merge_dictionaries(dict1, dict2)\n",
    "print(\"Merged dictionary:\", result)\n"
   ]
  },
  {
   "cell_type": "code",
   "execution_count": 72,
   "id": "4e6457ff-cb1a-4c4f-9298-0d44e021ff54",
   "metadata": {},
   "outputs": [
    {
     "name": "stdout",
     "output_type": "stream",
     "text": [
      "Nested value: 42\n",
      "Nested value: None\n"
     ]
    }
   ],
   "source": [
    "#33\n",
    "def get_nested_value(nested_dict, keys):\n",
    "    current_value = nested_dict\n",
    "    for key in keys:\n",
    "        if isinstance(current_value, dict) and key in current_value:\n",
    "            current_value = current_value[key]\n",
    "        else:\n",
    "            return None\n",
    "    return current_value\n",
    "\n",
    "nested_dict = {\"a\": {\"b\": {\"c\": 42}}}\n",
    "keys = [\"a\", \"b\", \"c\"]\n",
    "print(\"Nested value:\", get_nested_value(nested_dict, keys))  # Output: 42\n",
    "\n",
    "keys = [\"a\", \"b\", \"d\"]\n",
    "print(\"Nested value:\", get_nested_value(nested_dict, keys))  # Output: None\n"
   ]
  },
  {
   "cell_type": "code",
   "execution_count": 73,
   "id": "41c89dce-a2cf-4bf0-b00d-5a15c176827c",
   "metadata": {},
   "outputs": [
    {
     "name": "stdout",
     "output_type": "stream",
     "text": [
      "Sorted dictionary (ascending): {'banana': 1, 'cherry': 2, 'apple': 3}\n",
      "Sorted dictionary (descending): {'apple': 3, 'cherry': 2, 'banana': 1}\n"
     ]
    }
   ],
   "source": [
    "#34\n",
    "def sort_dict_by_value(input_dict, descending=False):\n",
    "    return dict(sorted(input_dict.items(), key=lambda item: item[1], reverse=descending))\n",
    "\n",
    "data = {\"apple\": 3, \"banana\": 1, \"cherry\": 2}\n",
    "sorted_asc = sort_dict_by_value(data)\n",
    "sorted_desc = sort_dict_by_value(data, descending=True)\n",
    "\n",
    "print(\"Sorted dictionary (ascending):\", sorted_asc)\n",
    "print(\"Sorted dictionary (descending):\", sorted_desc)\n"
   ]
  },
  {
   "cell_type": "code",
   "execution_count": 74,
   "id": "4151c2e9-cbc3-4afd-9d4e-9bb53d7af503",
   "metadata": {},
   "outputs": [
    {
     "name": "stdout",
     "output_type": "stream",
     "text": [
      "Inverted dictionary: {3: ['apple', 'date'], 1: ['banana'], 2: ['cherry']}\n"
     ]
    }
   ],
   "source": [
    "#35\n",
    "def invert_dict(input_dict):\n",
    "    inverted = {}\n",
    "    for key, value in input_dict.items():\n",
    "        if value in inverted:\n",
    "            inverted[value].append(key)\n",
    "        else:\n",
    "            inverted[value] = [key]\n",
    "    return inverted\n",
    "\n",
    "data = {\"apple\": 3, \"banana\": 1, \"cherry\": 2, \"date\": 3}\n",
    "inverted_data = invert_dict(data)\n",
    "\n",
    "print(\"Inverted dictionary:\", inverted_data)\n"
   ]
  },
  {
   "cell_type": "code",
   "execution_count": null,
   "id": "0016b4bf-f462-4868-b849-86b21c2421fa",
   "metadata": {},
   "outputs": [],
   "source": []
  }
 ],
 "metadata": {
  "kernelspec": {
   "display_name": "Python 3 (ipykernel)",
   "language": "python",
   "name": "python3"
  },
  "language_info": {
   "codemirror_mode": {
    "name": "ipython",
    "version": 3
   },
   "file_extension": ".py",
   "mimetype": "text/x-python",
   "name": "python",
   "nbconvert_exporter": "python",
   "pygments_lexer": "ipython3",
   "version": "3.11.0"
  }
 },
 "nbformat": 4,
 "nbformat_minor": 5
}
